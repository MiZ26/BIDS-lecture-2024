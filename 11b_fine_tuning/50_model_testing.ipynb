{
 "cells": [
  {
   "cell_type": "markdown",
   "id": "e766a254-6220-4f99-9c8a-2c79cd21f9f3",
   "metadata": {},
   "source": [
    "# Test fine-tuned models\n",
    "This notebooks serves testing a fine-tuned model using a not-so-simple task."
   ]
  },
  {
   "cell_type": "code",
   "execution_count": 1,
   "id": "48286f81-b7f8-4c8e-8bb7-7e8cb4d99d53",
   "metadata": {},
   "outputs": [],
   "source": [
    "from fine_tuning_utilities import prompt\n",
    "from IPython.display import Markdown"
   ]
  },
  {
   "cell_type": "code",
   "execution_count": 2,
   "id": "fb716a01-ffa1-44a6-819e-7ca407cac974",
   "metadata": {
    "tags": []
   },
   "outputs": [],
   "source": [
    "fine_tuned_model = \"ft:gpt-3.5-turbo-0125:leipzig-university::9X7CCzv4\""
   ]
  },
  {
   "cell_type": "code",
   "execution_count": 3,
   "id": "35c7e579-a8e1-4d65-adff-848686f409b9",
   "metadata": {},
   "outputs": [
    {
     "data": {
      "text/markdown": [
       "Sure! Here's some code that uses the `show_segmentation` function for that:\n",
       "\n",
       "```python\n",
       "from skimage.io import imread\n",
       "from skimage.segmentation import label\n",
       "from skimage.filters import threshold_otsu\n",
       "from skimage.morphology import disk\n",
       "from skimage.morphology import watershed\n",
       "from skimage.morphology import binary_erosion\n",
       "from scipy.ndimage import distance_transform_edt\n",
       "from skimage.feature import peak_local_max\n",
       "\n",
       "image = imread('../11a_prompt_engineering/data/blobs.tif')\n",
       "\n",
       "# Calculate a threshold\n",
       "thresh = threshold_otsu(image)\n",
       "\n",
       "# Create a binary image by thresholding\n",
       "binary = image > thresh\n",
       "\n",
       "# Label the binary image\n",
       "binary_labelled = label(binary)\n",
       "\n",
       "# Show the result\n",
       "plt.imshow(binary_labelled, cmap='viridis')\n",
       "plt.axis('off')\n",
       "plt.show()\n",
       "```"
      ],
      "text/plain": [
       "<IPython.core.display.Markdown object>"
      ]
     },
     "execution_count": 3,
     "metadata": {},
     "output_type": "execute_result"
    }
   ],
   "source": [
    "response = prompt(f\"\"\"\n",
    "Write Python code to load the image ../11a_prompt_engineering/data/blobs.tif,\n",
    "segment the nuclei in it and\n",
    "show the result\n",
    "\"\"\", model=fine_tuned_model)\n",
    "\n",
    "Markdown(response)"
   ]
  },
  {
   "cell_type": "markdown",
   "id": "ceddac44-915f-4c3f-b8b9-444d34007f9f",
   "metadata": {},
   "source": [
    "We can also compare the output to plain chatGPT:"
   ]
  },
  {
   "cell_type": "code",
   "execution_count": 4,
   "id": "86a66fea-c11d-45ab-8e04-f02011d5cab7",
   "metadata": {},
   "outputs": [
    {
     "data": {
      "text/markdown": [
       "import cv2\n",
       "from skimage import io\n",
       "from skimage.filters import threshold_otsu\n",
       "from skimage.segmentation import clear_border\n",
       "from skimage.measure import label, regionprops\n",
       "from skimage.morphology import closing, square\n",
       "import matplotlib.pyplot as plt\n",
       "\n",
       "# Load the image\n",
       "image_path = \"../11a_prompt_engineering/data/blobs.tif\"\n",
       "image = io.imread(image_path)\n",
       "\n",
       "# Convert the image to grayscale\n",
       "gray_image = cv2.cvtColor(image, cv2.COLOR_BGR2GRAY)\n",
       "\n",
       "# Apply Otsu's thresholding method\n",
       "thresh = threshold_otsu(gray_image)\n",
       "binary = gray_image > thresh\n",
       "\n",
       "# Perform closing to close small gaps between nuclei\n",
       "closed = closing(binary, square(3))\n",
       "\n",
       "# Remove artifacts connected to the image border\n",
       "cleared = clear_border(closed)\n",
       "\n",
       "# Label the image regions\n",
       "label_image = label(cleared)\n",
       "\n",
       "# Get the region properties\n",
       "regions = regionprops(label_image)\n",
       "\n",
       "# Display the original image and the segmented nuclei\n",
       "fig, ax = plt.subplots(1, 2, figsize=(12, 6))\n",
       "ax[0].imshow(image)\n",
       "ax[0].set_title('Original Image')\n",
       "ax[0].axis('off')\n",
       "\n",
       "ax[1].imshow(label_image, cmap='nipy_spectral')\n",
       "ax[1].set_title('Segmented Nuclei')\n",
       "ax[1].axis('off')\n",
       "\n",
       "plt.show()"
      ],
      "text/plain": [
       "<IPython.core.display.Markdown object>"
      ]
     },
     "execution_count": 4,
     "metadata": {},
     "output_type": "execute_result"
    }
   ],
   "source": [
    "response = prompt(f\"\"\"\n",
    "Write Python code to load the image ../11a_prompt_engineering/data/blobs.tif,\n",
    "segment the nuclei in it and\n",
    "show the result\n",
    "\"\"\")\n",
    "\n",
    "Markdown(response)"
   ]
  },
  {
   "cell_type": "code",
   "execution_count": null,
   "id": "a763c970-edb9-4a43-80dd-88f5c6314a07",
   "metadata": {},
   "outputs": [],
   "source": []
  }
 ],
 "metadata": {
  "kernelspec": {
   "display_name": "Python 3 (ipykernel)",
   "language": "python",
   "name": "python3"
  },
  "language_info": {
   "codemirror_mode": {
    "name": "ipython",
    "version": 3
   },
   "file_extension": ".py",
   "mimetype": "text/x-python",
   "name": "python",
   "nbconvert_exporter": "python",
   "pygments_lexer": "ipython3",
   "version": "3.9.19"
  }
 },
 "nbformat": 4,
 "nbformat_minor": 5
}
